{
 "cells": [
  {
   "cell_type": "code",
   "execution_count": 3,
   "metadata": {},
   "outputs": [],
   "source": [
    "import matplotlib.pyplot as plt\n",
    "import json"
   ]
  },
  {
   "cell_type": "code",
   "execution_count": 4,
   "metadata": {},
   "outputs": [
    {
     "data": {
      "image/png": "[encoded data removed]",
      "text/plain": [
       "<Figure size 432x288 with 1 Axes>"
      ]
     },
     "metadata": {
      "needs_background": "light"
     },
     "output_type": "display_data"
    }
   ],
   "source": [
    "X = [590,540,740,130,810,300,320,230,470,620,770,250]\n",
    "Y = [32,36,39,52,61,72,77,75,68,57,48,48]\n",
    "\n",
    "# scatter plot\n",
    "plt.scatter(X,Y,s=60,c='red',marker='^')\n",
    "\n",
    "# add title and x and y labels\n",
    "plt.title('Relationship between Temperature and Iced Coffee Sales')\n",
    "plt.xlabel('Cups of iced coffee sold')\n",
    "plt.ylabel('Temperature in Fahrenheit')\n",
    "\n",
    "# change axes ranges\n",
    "plt.xlim(0,1000)\n",
    "plt.ylim(0,100)\n",
    "\n",
    "# show plot\n",
    "plt.show()"
   ]
  },
  {
   "cell_type": "code",
   "execution_count": 35,
   "metadata": {},
   "outputs": [
    {
     "name": "stdout",
     "output_type": "stream",
     "text": [
      "{\n",
      "    \"Generaties\": [\n",
      "        {\n",
      "            \"Individuals\": [\n",
      "                {\n",
      "                    \"Genotype\": [\n",
      "                        0.5,\n",
      "                        0.5,\n",
      "                        0.5,\n",
      "                        0.5,\n",
      "                        0.5,\n",
      "                        0.5,\n",
      "                        0.5,\n",
      "                        0.5,\n",
      "                        0.5,\n",
      "                        0.5,\n",
      "                        1,\n",
      "                        2,\n",
      "                        3,\n",
      "                        4,\n",
      "                        5,\n",
      "                        6,\n",
      "                        7,\n",
      "                        8,\n",
      "                        9,\n",
      "                        10\n",
      "                    ],\n",
      "                    \"fenotype\": [\n",
      "                        1,\n",
      "                        2,\n",
      "                        3,\n",
      "                        4,\n",
      "                        5,\n",
      "                        6,\n",
      "                        7,\n",
      "                        8,\n",
      "                        9,\n",
      "                        10\n",
      "                    ],\n",
      "                    \"fitness\": 0.28\n",
      "                },\n",
      "                {\n",
      "                    \"Genotype\": [\n",
      "                        0.5,\n",
      "                        0.5,\n",
      "                        0.5,\n",
      "                        0.5,\n",
      "                        0.5,\n",
      "                        0.5,\n",
      "                        0.5,\n",
      "                        0.5,\n",
      "                        0.5,\n",
      "                        0.5,\n",
      "                        1,\n",
      "                        1,\n",
      "                        1,\n",
      "                        1,\n",
      "                        1,\n",
      "                        1,\n",
      "                        1,\n",
      "                        1,\n",
      "                        1,\n",
      "                        1\n",
      "                    ],\n",
      "                    \"fenotype\": [\n",
      "                        1,\n",
      "                        1,\n",
      "                        1,\n",
      "                        1,\n",
      "                        1,\n",
      "                        1,\n",
      "                        1,\n",
      "                        1,\n",
      "                        1,\n",
      "                        1\n",
      "                    ],\n",
      "                    \"fitness\": 0.11\n",
      "                }\n",
      "            ],\n",
      "            \"genIndex\": 1\n",
      "        },\n",
      "        {\n",
      "            \"Individuals\": [\n",
      "                {\n",
      "                    \"Genotype\": [\n",
      "                        0.5,\n",
      "                        0.5,\n",
      "                        0.5,\n",
      "                        0.5,\n",
      "                        0.5,\n",
      "                        0.5,\n",
      "                        0.5,\n",
      "                        0.5,\n",
      "                        0.5,\n",
      "                        0.5,\n",
      "                        1,\n",
      "                        2,\n",
      "                        3,\n",
      "                        4,\n",
      "                        5,\n",
      "                        6,\n",
      "                        7,\n",
      "                        8,\n",
      "                        9,\n",
      "                        10\n",
      "                    ],\n",
      "                    \"fenotype\": [\n",
      "                        2,\n",
      "                        1,\n",
      "                        3,\n",
      "                        40,\n",
      "                        5,\n",
      "                        6,\n",
      "                        7,\n",
      "                        8,\n",
      "                        9,\n",
      "                        10\n",
      "                    ],\n",
      "                    \"fitness\": 0.28\n",
      "                },\n",
      "                {\n",
      "                    \"Genotype\": [\n",
      "                        0.5,\n",
      "                        0.5,\n",
      "                        0.5,\n",
      "                        0.5,\n",
      "                        0.5,\n",
      "                        0.5,\n",
      "                        0.5,\n",
      "                        0.5,\n",
      "                        0.5,\n",
      "                        0.5,\n",
      "                        1,\n",
      "                        1,\n",
      "                        1,\n",
      "                        1,\n",
      "                        1,\n",
      "                        1,\n",
      "                        1,\n",
      "                        1,\n",
      "                        1,\n",
      "                        1\n",
      "                    ],\n",
      "                    \"fenotype\": [\n",
      "                        1,\n",
      "                        1,\n",
      "                        1,\n",
      "                        1,\n",
      "                        1,\n",
      "                        1,\n",
      "                        1,\n",
      "                        1,\n",
      "                        1,\n",
      "                        1\n",
      "                    ],\n",
      "                    \"fitness\": 0.11\n",
      "                }\n",
      "            ],\n",
      "            \"genIndex\": 2\n",
      "        }\n",
      "    ]\n",
      "}\n"
     ]
    }
   ],
   "source": [
    "testString = '{\"Generaties\": [{\"genIndex\":1,\"Individuals\": [{\"fenotype\": [1,2,3,4,5,6,7,8,9,10],\"Genotype\": [0.5,0.5,0.5,0.5,0.5,0.5,0.5,0.5,0.5,0.5,1,2,3,4,5,6,7,8,9,10],\"fitness\":0.28},{\"fenotype\": [1,1,1,1,1,1,1,1,1,1],\"Genotype\": [0.5,0.5,0.5,0.5,0.5,0.5,0.5,0.5,0.5,0.5,1,1,1,1,1,1,1,1,1,1],\"fitness\":0.11}]},{\"genIndex\":2,\"Individuals\": [{\"fenotype\": [2,1,3,40,5,6,7,8,9,10],\"Genotype\": [0.5,0.5,0.5,0.5,0.5,0.5,0.5,0.5,0.5,0.5,1,2,3,4,5,6,7,8,9,10],\"fitness\":0.28},{\"fenotype\": [1,1,1,1,1,1,1,1,1,1],\"Genotype\": [0.5,0.5,0.5,0.5,0.5,0.5,0.5,0.5,0.5,0.5,1,1,1,1,1,1,1,1,1,1],\"fitness\":0.11}]}]}'\n",
    "jsonTestDict = json.loads(testString)\n",
    "print(json.dumps(jsonTestDict, sort_keys=True, indent=4))\n"
   ]
  },
  {
   "cell_type": "code",
   "execution_count": 36,
   "metadata": {},
   "outputs": [
    {
     "data": {
      "text/plain": [
       "0.11"
      ]
     },
     "execution_count": 36,
     "metadata": {},
     "output_type": "execute_result"
    }
   ],
   "source": [
    "jsonTestDict[\"Generaties\"][0][\"Individuals\"][1][\"fitness\"]"
   ]
  },
  {
   "cell_type": "code",
   "execution_count": 37,
   "metadata": {},
   "outputs": [
    {
     "name": "stdout",
     "output_type": "stream",
     "text": [
      "0.28\n",
      "0.11\n"
     ]
    }
   ],
   "source": [
    "for x in jsonTestDict[\"Generaties\"][0][\"Individuals\"]:\n",
    "    print(x[\"fitness\"])"
   ]
  },
  {
   "cell_type": "code",
   "execution_count": 38,
   "metadata": {},
   "outputs": [
    {
     "name": "stdout",
     "output_type": "stream",
     "text": [
      "{'genIndex': 1, 'Individuals': [{'fenotype': [1, 2, 3, 4, 5, 6, 7, 8, 9, 10], 'Genotype': [0.5, 0.5, 0.5, 0.5, 0.5, 0.5, 0.5, 0.5, 0.5, 0.5, 1, 2, 3, 4, 5, 6, 7, 8, 9, 10], 'fitness': 0.28}, {'fenotype': [1, 1, 1, 1, 1, 1, 1, 1, 1, 1], 'Genotype': [0.5, 0.5, 0.5, 0.5, 0.5, 0.5, 0.5, 0.5, 0.5, 0.5, 1, 1, 1, 1, 1, 1, 1, 1, 1, 1], 'fitness': 0.11}]}\n",
      "{'genIndex': 2, 'Individuals': [{'fenotype': [2, 1, 3, 40, 5, 6, 7, 8, 9, 10], 'Genotype': [0.5, 0.5, 0.5, 0.5, 0.5, 0.5, 0.5, 0.5, 0.5, 0.5, 1, 2, 3, 4, 5, 6, 7, 8, 9, 10], 'fitness': 0.28}, {'fenotype': [1, 1, 1, 1, 1, 1, 1, 1, 1, 1], 'Genotype': [0.5, 0.5, 0.5, 0.5, 0.5, 0.5, 0.5, 0.5, 0.5, 0.5, 1, 1, 1, 1, 1, 1, 1, 1, 1, 1], 'fitness': 0.11}]}\n"
     ]
    }
   ],
   "source": [
    "for x in jsonTestDict[\"Generaties\"]:\n",
    "    print(x)"
   ]
  },
  {
   "cell_type": "code",
   "execution_count": 23,
   "metadata": {},
   "outputs": [
    {
     "name": "stdout",
     "output_type": "stream",
     "text": [
      "1\n"
     ]
    }
   ],
   "source": [
    "print(len(jsonTestDict[\"Generaties\"]))"
   ]
  },
  {
   "cell_type": "code",
   "execution_count": 34,
   "metadata": {},
   "outputs": [
    {
     "name": "stdout",
     "output_type": "stream",
     "text": [
      "[['genIndex', 'Individuals']]\n"
     ]
    }
   ],
   "source": [
    "Fenotypes = [[x for x in gen] for gen in jsonTestDict[\"Generaties\"]]\n",
    "print(Fenotypes)"
   ]
  },
  {
   "cell_type": "code",
   "execution_count": 26,
   "metadata": {},
   "outputs": [
    {
     "data": {
      "text/plain": [
       "[['genIndex', 'Individuals']]"
      ]
     },
     "execution_count": 26,
     "metadata": {},
     "output_type": "execute_result"
    }
   ],
   "source": []
  },
  {
   "cell_type": "code",
   "execution_count": 42,
   "metadata": {},
   "outputs": [
    {
     "ename": "NameError",
     "evalue": "name 'fitness' is not defined",
     "output_type": "error",
     "traceback": [
      "\u001b[0;31m---------------------------------------------------------------------------\u001b[0m",
      "\u001b[0;31mNameError\u001b[0m                                 Traceback (most recent call last)",
      "\u001b[0;32m<ipython-input-42-001749f14552>\u001b[0m in \u001b[0;36m<module>\u001b[0;34m()\u001b[0m\n\u001b[1;32m      1\u001b[0m \u001b[0mnumberOfGenerations\u001b[0m \u001b[0;34m=\u001b[0m \u001b[0mlen\u001b[0m\u001b[0;34m(\u001b[0m\u001b[0mjsonTestDict\u001b[0m\u001b[0;34m[\u001b[0m\u001b[0;34m\"Generaties\"\u001b[0m\u001b[0;34m]\u001b[0m\u001b[0;34m)\u001b[0m\u001b[0;34m\u001b[0m\u001b[0m\n\u001b[1;32m      2\u001b[0m \u001b[0;32mfor\u001b[0m \u001b[0mgenInd\u001b[0m \u001b[0;32min\u001b[0m \u001b[0mrange\u001b[0m\u001b[0;34m(\u001b[0m\u001b[0;36m0\u001b[0m\u001b[0;34m,\u001b[0m\u001b[0mnumberOfGenerations\u001b[0m\u001b[0;34m-\u001b[0m\u001b[0;36m1\u001b[0m\u001b[0;34m)\u001b[0m\u001b[0;34m:\u001b[0m\u001b[0;34m\u001b[0m\u001b[0m\n\u001b[0;32m----> 3\u001b[0;31m     \u001b[0mfitness\u001b[0m\u001b[0;34m[\u001b[0m\u001b[0mgenInd\u001b[0m\u001b[0;34m]\u001b[0m \u001b[0;34m=\u001b[0m \u001b[0;34m[\u001b[0m\u001b[0mx\u001b[0m\u001b[0;34m[\u001b[0m\u001b[0;34m\"fitness\"\u001b[0m\u001b[0;34m]\u001b[0m \u001b[0;32mfor\u001b[0m \u001b[0mx\u001b[0m \u001b[0;32min\u001b[0m \u001b[0mjsonTestDict\u001b[0m\u001b[0;34m[\u001b[0m\u001b[0;34m\"Generaties\"\u001b[0m\u001b[0;34m]\u001b[0m\u001b[0;34m[\u001b[0m\u001b[0mgenInd\u001b[0m\u001b[0;34m]\u001b[0m\u001b[0;34m[\u001b[0m\u001b[0;34m\"Individuals\"\u001b[0m\u001b[0;34m]\u001b[0m\u001b[0;34m]\u001b[0m\u001b[0;34m\u001b[0m\u001b[0m\n\u001b[0m\u001b[1;32m      4\u001b[0m \u001b[0;34m\u001b[0m\u001b[0m\n",
      "\u001b[0;31mNameError\u001b[0m: name 'fitness' is not defined"
     ]
    }
   ],
   "source": [
    "numberOfGenerations = len(jsonTestDict[\"Generaties\"])\n",
    "for genInd in range(0,numberOfGenerations-1):\n",
    "    fitness[genInd] = [x[\"fitness\"] for x in jsonTestDict[\"Generaties\"][genInd][\"Individuals\"]]\n",
    "    "
   ]
  },
  {
   "cell_type": "code",
   "execution_count": 46,
   "metadata": {},
   "outputs": [
    {
     "data": {
      "text/plain": [
       "0.28"
      ]
     },
     "execution_count": 46,
     "metadata": {},
     "output_type": "execute_result"
    }
   ],
   "source": [
    "jsonTestDict[\"Generaties\"][genInd][\"Individuals\"][0][\"fitness\"]"
   ]
  },
  {
   "cell_type": "code",
   "execution_count": null,
   "metadata": {},
   "outputs": [],
   "source": [
    "# Ik probeer het eens zonder list comprehensions\n",
    "numberOfGenerations = len(jsonTestDict[\"Generaties\"])\n",
    "for genInd in range(0,numberOfGenerations-1):\n",
    "    numOfInds\n",
    "    fitness[genInd] = [x[\"fitness\"] for x in jsonTestDict[\"Generaties\"][genInd][\"Individuals\"]]\n",
    "    "
   ]
  }
 ],
 "metadata": {
  "kernelspec": {
   "display_name": "Python 3",
   "language": "python",
   "name": "python3"
  },
  "language_info": {
   "codemirror_mode": {
    "name": "ipython",
    "version": 3
   },
   "file_extension": ".py",
   "mimetype": "text/x-python",
   "name": "python",
   "nbconvert_exporter": "python",
   "pygments_lexer": "ipython3",
   "version": "3.7.0"
  }
 },
 "nbformat": 4,
 "nbformat_minor": 2
}
